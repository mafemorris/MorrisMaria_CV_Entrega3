{
 "cells": [
  {
   "cell_type": "code",
   "execution_count": 1,
   "metadata": {},
   "outputs": [],
   "source": [
    "# Importa las librerias necesarias\n",
    "import numpy as np\n",
    "import matplotlib.pyplot as plt\n",
    "import pandas as pd\n",
    "from sklearn.neural_network import MLPClassifier\n",
    "from sklearn.model_selection import train_test_split\n",
    "from sklearn.metrics import accuracy_score"
   ]
  },
  {
   "cell_type": "code",
   "execution_count": 2,
   "metadata": {},
   "outputs": [
    {
     "data": {
      "image/png": "[encoded data removed]",
      "text/plain": [
       "<Figure size 288x288 with 1 Axes>"
      ]
     },
     "metadata": {
      "needs_background": "light"
     },
     "output_type": "display_data"
    }
   ],
   "source": [
    "# Se importan los datos de las flores\n",
    "# Las 0 y 1 son el length y width del sepal. Las 2 y 3 son length y width del petal. El 4 es la clase\n",
    "datos = pd.read_csv('iris.data',header=None)\n",
    "\n",
    "# Teniendo en la cuenta las condiciones del ejercicio ponemos la setosa como 1 y otro tipo como 0\n",
    "Y=datos[4].replace(['Iris-setosa', 'Iris-versicolor', 'Iris-virginica'],[1,0,0])\n",
    "x1=datos[0] # Largo del sepalo\n",
    "x2=datos[1] # Ancho del sepalo\n",
    "x3=datos[2] # Largo de los petalos\n",
    "x4=datos[3] # Ancho de los petalos\n",
    "\n",
    "\n",
    "# Hacemos las dos clases, las que son setosas y las que no\n",
    "class_0 = Y==0 # No son \n",
    "class_1 = Y==1 # Si son\n",
    "\n",
    "def grafica(x,y1,n):\n",
    "    fig = plt.figure(figsize=(4,4))\n",
    "    plt.plot(x[class_0],y1[class_0],'o',c='k',label='No son setosas')\n",
    "    plt.plot(x[class_1],y1[class_1],'o',c='r',label='Son setosas')\n",
    "    if n == 1:\n",
    "          plt.plot(np.sort(x),y(np.sort(x)))\n",
    "    plt.legend()\n",
    "    plt.xlabel('Largo del sepalo (cm)')\n",
    "    plt.ylabel('Largo del petalo (cm)')\n",
    "    \n",
    "grafica(x1,x3,0)\n"
   ]
  },
  {
   "cell_type": "code",
   "execution_count": 3,
   "metadata": {},
   "outputs": [],
   "source": [
    "# Se definen las funciones para clasificar\n",
    "def y(x):\n",
    "    return -(b+w_1*x)/w_2\n",
    "def act(z):\n",
    "    return 1/(1+np.exp(-z))"
   ]
  },
  {
   "cell_type": "code",
   "execution_count": 4,
   "metadata": {},
   "outputs": [
    {
     "name": "stdout",
     "output_type": "stream",
     "text": [
      "Epoch [1/7],bias:-0.5 ,w1:-3.5 ,w2:-2.35 \n",
      "Epoch [2/7],bias:0.0 ,w1:-2.0 ,w2:-3.3000000000000003 \n",
      "Epoch [3/7],bias:0.5 ,w1:-0.5 ,w2:-4.250000000000001 \n",
      "Epoch [4/7],bias:0.5 ,w1:-0.8000000000000003 ,w2:-5.300000000000001 \n",
      "Epoch [5/7],bias:1.0 ,w1:1.7499999999999996 ,w2:-4.6000000000000005 \n",
      "Epoch [6/7],bias:1.0 ,w1:1.7499999999999996 ,w2:-4.6000000000000005 \n",
      "Epoch [7/7],bias:1.0 ,w1:1.7499999999999996 ,w2:-4.6000000000000005 \n"
     ]
    },
    {
     "data": {
      "image/png": "[encoded data removed]",
      "text/plain": [
       "<Figure size 288x288 with 1 Axes>"
      ]
     },
     "metadata": {
      "needs_background": "light"
     },
     "output_type": "display_data"
    }
   ],
   "source": [
    "b = 0\n",
    "w_1 = 0\n",
    "w_2 = 0\n",
    "n_epoch = 7\n",
    "eta = 0.5\n",
    "\n",
    "\n",
    "for epoch in range(n_epoch):\n",
    "    for i,j,k in zip(x1,x3,Y):\n",
    "        z = i*w_1+j*w_2+b\n",
    "        sig_z = act(z)\n",
    "        if sig_z>=0.5:\n",
    "            out = 1\n",
    "        if sig_z<0.5:\n",
    "            out = 0\n",
    "        error = k-out\n",
    "        b = b + eta*error\n",
    "        w_1 = w_1 + eta*error*i\n",
    "        w_2 = w_2 + eta*error*j\n",
    "    print('Epoch [{}/{}],bias:{} ,w1:{} ,w2:{} '.format(epoch+1,n_epoch,b,w_1,w_2))\n",
    "grafica(x1,x3,1)\n",
    "plt.show()"
   ]
  },
  {
   "cell_type": "markdown",
   "metadata": {},
   "source": [
    "Acá se pudo categorizar entre las flores que son setosas o no dependiendo del largo del sepalo y de los petalos. Además, en las epocas se puede ver que desde la epoca 5 ya se encontró la separación entre las categorías. "
   ]
  },
  {
   "cell_type": "code",
   "execution_count": 5,
   "metadata": {},
   "outputs": [],
   "source": [
    "# Se toman los datos y se separan de acuerdo a la categoria\n",
    "X=datos.drop(columns=4)\n",
    "Y=datos[4].replace(['Iris-setosa', 'Iris-versicolor', 'Iris-virginica'],[0,1,2])\n",
    "X_train,X_test,Y_train,Y_test = train_test_split(X,Y)"
   ]
  },
  {
   "cell_type": "code",
   "execution_count": 9,
   "metadata": {},
   "outputs": [
    {
     "data": {
      "text/plain": [
       "0.9736842105263158"
      ]
     },
     "execution_count": 9,
     "metadata": {},
     "output_type": "execute_result"
    }
   ],
   "source": [
    "# Se hace una red con 2 capas\n",
    "model_2 = MLPClassifier(activation='tanh',hidden_layer_sizes=(4,2), solver='adam',learning_rate_init=0.1)\n",
    "model_2.fit(X_train,Y_train)\n",
    "Y_pred_2 = model_2.predict(X_test)\n",
    "accuracy_score(Y_test,Y_pred_2)"
   ]
  },
  {
   "cell_type": "code",
   "execution_count": 12,
   "metadata": {},
   "outputs": [
    {
     "data": {
      "text/plain": [
       "0.9473684210526315"
      ]
     },
     "execution_count": 12,
     "metadata": {},
     "output_type": "execute_result"
    }
   ],
   "source": [
    "# Se hace una red con 3 capas\n",
    "model_3 = MLPClassifier(activation='tanh',hidden_layer_sizes=(4,2,4), solver='adam',learning_rate_init=0.1)\n",
    "model_3.fit(X_train,Y_train)\n",
    "Y_pred_3 = model_3.predict(X_test)\n",
    "accuracy_score(Y_test,Y_pred_3)"
   ]
  },
  {
   "cell_type": "code",
   "execution_count": 26,
   "metadata": {},
   "outputs": [
    {
     "data": {
      "text/plain": [
       "(array([0.3, 0.7, 0.8, 0.9, 1. ]), array([1, 2, 3, 5, 9]))"
      ]
     },
     "execution_count": 26,
     "metadata": {},
     "output_type": "execute_result"
    }
   ],
   "source": [
    "rep = []\n",
    "for i in range(20):\n",
    "    model_3 = MLPClassifier(activation='tanh',hidden_layer_sizes=(6,3,5), solver='adam',learning_rate_init=0.1)\n",
    "    model_3.fit(X_train,Y_train)\n",
    "    Y_pred_3 = model_3.predict(X_test)\n",
    "    rep.append(round(accuracy_score(Y_test,Y_pred_3),1))\n",
    "np.unique(rep,return_counts=True)"
   ]
  },
  {
   "cell_type": "markdown",
   "metadata": {},
   "source": [
    "Al mirar la accuracy de los modelos, podemos darnos cuenta que se logra categorizar entre los tres tipos de plantas de una manera bastante exacta. Sin embargo, si este proceso se repite varias veces se puede ver que hay veces que el valor de ambas es cercano a 1, mientras que en otras circuntancias está al rededor del 0.3. Esto se puede deber principalmente a que es una base de datos pequeña y no se están tomando suficientes casos, o que los datos son cercanos entre ellos y no se logra categorizar de una manera adecuada los tipos de plantas. "
   ]
  },
  {
   "cell_type": "code",
   "execution_count": null,
   "metadata": {},
   "outputs": [],
   "source": []
  }
 ],
 "metadata": {
  "kernelspec": {
   "display_name": "Python 3.8.0 64-bit",
   "language": "python",
   "name": "python38064bitdc483eef175148bfb08108470b475ca5"
  },
  "language_info": {
   "codemirror_mode": {
    "name": "ipython",
    "version": 3
   },
   "file_extension": ".py",
   "mimetype": "text/x-python",
   "name": "python",
   "nbconvert_exporter": "python",
   "pygments_lexer": "ipython3",
   "version": "3.8.0"
  }
 },
 "nbformat": 4,
 "nbformat_minor": 4
}
